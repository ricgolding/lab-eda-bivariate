{
 "cells": [
  {
   "cell_type": "code",
   "execution_count": null,
   "id": "f8ed2f46-56e9-481b-a877-24f3c3a80522",
   "metadata": {},
   "outputs": [],
   "source": [
    "import pandas as pd\n",
    "import matplotlib.pyplot as plt\n",
    "import seaborn as sns\n",
    "import numpy as np\n",
    "\n",
    "url = 'amz_uk_price_prediction_dataset.csv'\n",
    "df = pd.read_csv(url)\n",
    "df"
   ]
  },
  {
   "cell_type": "markdown",
   "id": "3146f18a-85ad-4e7d-bcc0-4d708ee73f0f",
   "metadata": {},
   "source": [
    "## Part 1: Analyzing Best-Seller Trends Across Product Categories\n",
    "\n",
    "### Objective: Understand the relationship between product categories and their best-seller status."
   ]
  },
  {
   "cell_type": "markdown",
   "id": "a1bcf75c-7238-46d9-a427-7b3858ebf877",
   "metadata": {},
   "source": [
    "### 1. Crosstab Analysis"
   ]
  },
  {
   "cell_type": "code",
   "execution_count": null,
   "id": "10afff00-6cea-4ae3-84e8-dccf9abb71e7",
   "metadata": {},
   "outputs": [],
   "source": [
    "# Create a crosstab between the product category and the isBestSeller status.\n",
    "\n",
    "crosstab_result = pd.crosstab(\n",
    "    df['category'], df['isBestSeller']).round(2)\n",
    "\n",
    "# Are there categories where being a best-seller is more prevalent?\n",
    "\n",
    "crosstab_result_proportional = pd.crosstab(\n",
    "    df['category'], df['isBestSeller'], \n",
    "    normalize='index'\n",
    ").round(2)\n",
    "\n",
    "crosstab_result_proportional.sort_values(True, ascending=False)\n",
    "\n",
    "# Most of the items are not best-sellers for example. Only 6% of Smart Home Security & Lightting is a best seller."
   ]
  },
  {
   "cell_type": "markdown",
   "id": "6d2db65b-034b-4bcf-9aaf-d33e594a2f88",
   "metadata": {},
   "source": [
    "### 2. Statistical Tests:"
   ]
  },
  {
   "cell_type": "code",
   "execution_count": null,
   "id": "530985e7-081f-4cda-9268-00cc8edee5eb",
   "metadata": {},
   "outputs": [],
   "source": [
    "# Conduct a Chi-square test to determine if the best-seller distribution is independent of the product category.\n",
    "\n",
    "from scipy.stats import chi2_contingency\n",
    "chi2_statistic, chi2_p_value, _, _ = chi2_contingency(crosstab_result)\n",
    "\n",
    "display(chi2_statistic.round(2), chi2_p_value)\n",
    "#No sufficient evidence to conclude that variables are related\n",
    "\n",
    "# Compute Cramér's V to understand the strength of association between best-seller status and category.\n",
    "\n",
    "from scipy.stats.contingency import association\n",
    "\n",
    "association(crosstab_result.astype(int), method=\"cramer\")\n",
    "\n",
    "#There is a small a medium association between variables."
   ]
  },
  {
   "cell_type": "markdown",
   "id": "0095b2a1-2118-4650-a630-ca77c5a66c63",
   "metadata": {},
   "source": [
    "### 3. Visualizations:"
   ]
  },
  {
   "cell_type": "code",
   "execution_count": null,
   "id": "c966068e-2a14-4cce-b0d0-b12f9ee0cddb",
   "metadata": {},
   "outputs": [],
   "source": [
    "# Visualize the relationship between product categories and the best-seller status using a stacked bar chart.\n",
    "crosstab_result_top5 = crosstab_result.head(5)\n",
    "\n",
    "crosstab_sorted = crosstab_result.sort_values(by=[True,False], axis=0, ascending=False).head(10)\n",
    "crosstab_sorted.plot(kind=\"bar\", stacked=True)\n",
    "plt.show()"
   ]
  },
  {
   "cell_type": "markdown",
   "id": "5c1f0099-17ed-40c4-88a7-be4ef32c84e8",
   "metadata": {},
   "source": [
    "## Part 2: Exploring Product Prices and Ratings Across Categories and Brands\n",
    "\n",
    "### Objective: Investigate how different product categories influence product prices.\n",
    "\n"
   ]
  },
  {
   "cell_type": "markdown",
   "id": "f9c614f3-899f-4703-a728-547a30fd3747",
   "metadata": {},
   "source": [
    "### 0. Preliminary Step: Remove outliers in product prices."
   ]
  },
  {
   "cell_type": "code",
   "execution_count": null,
   "id": "a1e0c119-d349-46d9-b3d6-0de2a1ba744b",
   "metadata": {},
   "outputs": [],
   "source": [
    "\n",
    "\n",
    "#For this purpose, we can use the IQR (Interquartile Range) method. \n",
    "#Products priced below the first quartile minus 1.5 times the IQR or above the third quartile plus 1.5 times the IQR will be considered outliers and \n",
    "#removed from the dataset. The next steps will be done with the dataframe without outliers.\n",
    "\n",
    "def tukeys_test_outliers(data):\n",
    "    Q1 = data.quantile(0.25)\n",
    "    Q3 = data.quantile(0.75)\n",
    "    IQR = Q3 - Q1\n",
    "\n",
    "    # Define bounds for the outliers\n",
    "    lower_bound = Q1 - 1.5 * IQR\n",
    "    upper_bound = Q3 + 1.5 * IQR\n",
    "\n",
    "    # Identify the outliers\n",
    "    outliers = data[(data < lower_bound) | (data > upper_bound)]\n",
    "\n",
    "    return outliers\n",
    "\n",
    "df = df[~df['price'].isin(tukeys_test_outliers(df['price']))]"
   ]
  },
  {
   "cell_type": "markdown",
   "id": "659bf6cc-b569-44cf-a360-451ec7ed88bc",
   "metadata": {},
   "source": [
    "### 1. Violin Plots:"
   ]
  },
  {
   "cell_type": "code",
   "execution_count": null,
   "id": "fd6e97d4-4315-4ab5-ae47-3b029b920f94",
   "metadata": {},
   "outputs": [],
   "source": [
    "# Use a violin plot to visualize the distribution of price across different product categories. \n",
    "#Filter out the top 20 categories based on count for better visualization.\n",
    "\n",
    "top_categories = df['category'].value_counts().head(20).index\n",
    "\n",
    "# Filter the DataFrame for these categories\n",
    "category_filtered_df = df[df['category'].isin(top_categories)]\n",
    "\n",
    "# Create the violin plot\n",
    "sns.violinplot(data=category_filtered_df, x='category', y='price', palette=\"coolwarm\", hue='category')\n",
    "plt.xticks(rotation=45)\n",
    "plt.show()\n",
    "\n",
    "# Which product category tends to have the highest median price? Don't filter here by top categories.\n",
    "\n",
    "df.groupby('category')['price'].agg('median').sort_values(ascending=False)\n",
    "\n",
    "#Desktops have the highest median price."
   ]
  },
  {
   "cell_type": "markdown",
   "id": "9589958d-d2f0-42d2-95c7-e0ccd835d7af",
   "metadata": {},
   "source": [
    "### 3. Box Plots:"
   ]
  },
  {
   "cell_type": "code",
   "execution_count": null,
   "id": "8a89d1b4-494e-4a62-b190-026c0a1ed169",
   "metadata": {},
   "outputs": [],
   "source": [
    "# Visualize the distribution of product ratings based on their category using side-by-side box plots. \n",
    "#Filter out the top 10 categories based on count for better visualization.\n",
    "\n",
    "top_categories = df['category'].value_counts().head(10).index\n",
    "category_filtered_df = df[df['category'].isin(top_categories)]\n",
    "\n",
    "sns.boxplot(data=category_filtered_df, x='category', y='stars', palette=\"coolwarm\", hue='category', legend=False)\n",
    "plt.xticks(rotation=45)\n",
    "plt.title('Product Rating Distributions')\n",
    "plt.show()\n",
    "\n",
    "\n",
    "# Which category tends to receive the highest median rating from customers? Don't filter here by top categories.\n",
    "\n",
    "\n",
    "df.groupby('category')['stars'].agg('median').sort_values(ascending=False)\n",
    "\n",
    "#The category that receives the highest median rating from customers is 'Computer Memory'"
   ]
  },
  {
   "cell_type": "markdown",
   "id": "8297835f-bd31-40e1-beb8-f1d79fdc6f05",
   "metadata": {},
   "source": [
    "## Part 3: Investigating the Interplay Between Product Prices and Ratings\n",
    "\n",
    "### Objective: Analyze how product ratings (stars) correlate with product prices."
   ]
  },
  {
   "cell_type": "markdown",
   "id": "3acaf552-9c8e-47df-a005-afe18db268e9",
   "metadata": {},
   "source": [
    "## 1. Correlation Coefficients:"
   ]
  },
  {
   "cell_type": "code",
   "execution_count": null,
   "id": "272f587b-c50f-4572-8f83-e237164c01ed",
   "metadata": {},
   "outputs": [],
   "source": [
    "# Calculate the correlation coefficient between price and stars.\n",
    "\n",
    "correlation = df['price'].corr(df['stars'], method='pearson')\n",
    "correlation\n",
    "\n",
    "#Is there a significant correlation between product price and its rating?\n",
    "\n",
    "#There seems to be a negative correlation between price and rating. Which indicates that the more the price increases\n",
    "#the more the rating could decrease."
   ]
  },
  {
   "cell_type": "markdown",
   "id": "72428a6f-07f1-443b-89f3-cbe42b22f8ba",
   "metadata": {},
   "source": [
    "## 2. Visualizations"
   ]
  },
  {
   "cell_type": "code",
   "execution_count": null,
   "id": "9cd908d1-596f-4a47-9bc6-54854e542b01",
   "metadata": {},
   "outputs": [],
   "source": [
    "#Use a scatter plot to visualize the relationship between product rating and price. What patterns can you observe?\n",
    "\n",
    "sns.scatterplot(data=df, x='stars', y='price')\n",
    "plt.show()"
   ]
  },
  {
   "cell_type": "code",
   "execution_count": null,
   "id": "fae8f6ab-9b55-44d0-9768-9e72f5b46c78",
   "metadata": {},
   "outputs": [],
   "source": [
    "#Use a correlation heatmap to visualize correlations between all numerical variables.\n",
    "df_numerical = df.select_dtypes(\"number\").drop(columns=potential_categorical_from_numerical.columns)\n",
    "\n",
    "correlation_matrix = df_numerical.corr()\n",
    "\n",
    "# Setting up the matplotlib figure with an appropriate size\n",
    "plt.figure(figsize=(6, 6))\n",
    "\n",
    "# Drawing the heatmap for the numerical columns\n",
    "sns.heatmap(correlation_matrix, annot=True, cmap=\"coolwarm\")\n",
    "plt.title(\"Correlation Heatmap for Selected Numerical Variables\")\n",
    "plt.show()"
   ]
  },
  {
   "cell_type": "code",
   "execution_count": null,
   "id": "ce35da7a-94b2-44dd-8981-e2bd469fb40f",
   "metadata": {},
   "outputs": [],
   "source": [
    "# Examine if product prices typically follow a normal distribution using a QQ plot.\n",
    "import statsmodels.api as sm\n",
    "\n",
    "# Generating a Q-Q plot for 'SalePrice' to check if its distribution follows a normal distribution\n",
    "sm.qqplot(df['price'], line='s');\n",
    "plt.show()\n",
    "\n",
    "#The product price does not follow a normal distribution using a QQ plot."
   ]
  },
  {
   "cell_type": "code",
   "execution_count": null,
   "id": "fde8c393-13e4-4b7f-b884-be0bd372c7ec",
   "metadata": {},
   "outputs": [],
   "source": []
  }
 ],
 "metadata": {
  "kernelspec": {
   "display_name": "Python 3 (ipykernel)",
   "language": "python",
   "name": "python3"
  },
  "language_info": {
   "codemirror_mode": {
    "name": "ipython",
    "version": 3
   },
   "file_extension": ".py",
   "mimetype": "text/x-python",
   "name": "python",
   "nbconvert_exporter": "python",
   "pygments_lexer": "ipython3",
   "version": "3.12.7"
  }
 },
 "nbformat": 4,
 "nbformat_minor": 5
}
